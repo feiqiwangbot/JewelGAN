import scipy
from glob import glob
import numpy as np
import imageio
from PIL import Image

class DataLoader():
    def __init__(self, dataset_name, img_res=(128, 128)):
        self.dataset_name = dataset_name
        self.img_res = img_res
        self.counter = 0
        self.dataPath = './'+ self.dataset_name
        
    def load_data(self, domain, batch_size=1, is_testing=False):
        data_type = "train%s" % domain if not is_testing else "test%s" % domain
        path = glob(self.dataPath )

        batch_images = np.random.choice(path, size=batch_size)

        imgs = []
        for img_path in batch_images:
            img = self.imread(img_path)
            if not is_testing:
                #img = scipy.misc.imresize(img, self.img_res)
                #img = np.array(scipy.misc.imresize(img, self.img_res))
                img = np.array(Image.fromarray(img).resize((self.img_res), resample=Image.BICUBIC))

                if np.random.random() > 0.5:
                    img = np.fliplr(img)
            else:
                #img = scipy.misc.imresize(img, self.img_res)
                img = np.array(Image.fromarray(img).resize((self.img_res), resample=Image.BICUBIC))
            imgs.append(img)

        imgs = np.array(imgs)/127.5 - 1.

        return imgs

    def load_batch(self, count = 0, batch_size=1, is_testing=False):
        path_A = glob(self.dataPath  + '/*')
        self.n_batches = int(len(path_A)/ batch_size)
        total_samples = self.n_batches * batch_size

        # Sample n_batches * batch_size from each path list so that model sees all
        # samples from both domains
        path_A = np.random.choice(path_A, total_samples, replace=False)

        batch_A = path_A[count*batch_size:(count+1)*batch_size]
        imgs_A = []
        for img_A in batch_A:
            img_A = self.imread(img_A)
            img_A = np.array(Image.fromarray(img_A).resize((self.img_res), resample=Image.BICUBIC).convert("RGB"))
            imgs_A.append(img_A)
        imgs_A = np.array(imgs_A)/127.5 - 1.

        return imgs_A

    def load_img(self, path):
        img = self.imread(path)
        img = np.array(Image.fromarray(img).resize((self.img_res), resample=Image.BICUBIC))

        img = img/127.5 - 1.
        return img[np.newaxis, :, :, :]

    def imread(self, path):
        return imageio.imread(path)

    
